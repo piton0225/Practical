{
 "cells": [
  {
   "cell_type": "code",
   "execution_count": null,
   "metadata": {},
   "outputs": [],
   "source": [
    "  groupmates = [\n",
    "  {\n",
    "    \"name\": \"Абу\",\n",
    "    \"surname\": \"Султанов\",\n",
    "    \"exams\": [\"Философия\",\"ИС\",\"Психология\"],\n",
    "    \"marks\": [5, 4, 4]\n",
    "  },\n",
    "  {\n",
    "    \"name\": \"Максим\",\n",
    "    \"surname\": \"Синюков\",\n",
    "    \"exams\": [\"ИС\",\"КТП\",\"АиГ\"],\n",
    "    \"marks\": [4, 3, 3, 4, 5]\n",
    "  },\n",
    "  {\n",
    "    \"name\": \"Константин\",\n",
    "    \"surname\": \"Величко\",\n",
    "    \"exams\": [\"КТП\",\"ЭЭиС\",\"Психология\"],\n",
    "    \"marks\": [4, 3, 4, 5, 5]\n",
    "  },\n",
    "  {\n",
    "    \"name\": \"Михаил\",\n",
    "    \"surname\": \"Табола\",\n",
    "    \"exams\": [\"Психология\",\"ИС\",\"КТП\"],\n",
    "    \"marks\": [4, 5, 5, 4, 5]\n",
    "  },\n",
    "  {\n",
    "    \"name\": \"Андрей\",\n",
    "    \"surname\": \"Поляков\",\n",
    "    \"exams\": [\"КТП\",\"ИС\",\"Философия\"],\n",
    "    \"marks\": [5, 5, 5, 5, 5]\n",
    "  }\n",
    "]\n",
    "\n",
    "def count_mark(students,mark):\n",
    "    print (\"name\".ljust(15), \"surname\".ljust(8), u\"exams\".ljust(8), u\"marks\".ljust(20))\n",
    "    for student in students:\n",
    "        marks_list = student['marks']\n",
    "        result =  (sum(marks_list)/len(marks_list))\n",
    "        if result >= need:\n",
    "            print(student[\"name\"].ljust(15), student[\"surname\"].ljust(8), str(student[\"exams\"]).ljust(8), str(student[\"marks\"]).ljust(20))\n",
    "\n",
    "need = int(input('Average score :'))\n",
    "\n",
    "count_mark(groupmates,need)"
   ]
  }
 ],
 "metadata": {
  "kernelspec": {
   "display_name": "Python 3",
   "language": "python",
   "name": "python3"
  },
  "language_info": {
   "codemirror_mode": {
    "name": "ipython",
    "version": 3
   },
   "file_extension": ".py",
   "mimetype": "text/x-python",
   "name": "python",
   "nbconvert_exporter": "python",
   "pygments_lexer": "ipython3",
   "version": "3.8.5"
  }
 },
 "nbformat": 4,
 "nbformat_minor": 4
}
